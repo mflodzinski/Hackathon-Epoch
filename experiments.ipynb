{
 "cells": [
  {
   "cell_type": "code",
   "id": "initial_id",
   "metadata": {
    "collapsed": true,
    "ExecuteTime": {
     "end_time": "2025-02-22T12:23:20.668475Z",
     "start_time": "2025-02-22T12:23:18.961921Z"
    }
   },
   "source": [
    "import pandas as pd\n",
    "import numpy as np\n",
    "import xgboost as xgb\n",
    "from sklearn.model_selection import train_test_split\n",
    "from sklearn.preprocessing import TargetEncoder\n",
    "\n",
    "dataset_cleaned = pd.read_csv('datasets/dataset_cleaned.csv')\n",
    "dataset = pd.get_dummies(dataset_cleaned, columns=['STATE'], dtype=int)\n",
    "dataset.head()\n",
    "\n",
    "dataset['STATE'] = TargetEncoder(smooth='auto').fit_transform(pd.DataFrame(dataset_cleaned['STATE']), dataset_cleaned['TOTAL_FIRE_SIZE'])\n",
    "\n",
    "\n",
    "X = dataset.drop('TOTAL_FIRE_SIZE', axis=1)\n",
    "y = dataset['TOTAL_FIRE_SIZE']\n",
    "\n",
    "# Split data into training and testing sets\n",
    "X_train, X_test, y_train, y_test = train_test_split(X, y, test_size=0.3, random_state=42)\n",
    "\n",
    "# Initialize and train the XGBoost classifier\n",
    "model = xgb.XGBRegressor(objective='reg:squarederror')\n",
    "model.fit(X_train, y_train)\n",
    "\n",
    "def calc_log_clamped_score(y_true, y_pred):\n",
    "    \"\"\"\n",
    "    Implements: mean( min( |log(y_pred / y_true)|, 10 ) )\n",
    "    \"\"\"\n",
    "    eps = 1e-15\n",
    "    y_pred = np.maximum(y_pred, eps)\n",
    "    y_true = np.maximum(y_true, eps)\n",
    "\n",
    "    log_errors = np.abs(np.log(y_pred / y_true))\n",
    "    log_errors_clamped = np.minimum(log_errors, 10.0)\n",
    "    return np.mean(log_errors_clamped)\n",
    "\n",
    "\n",
    "# Make predictions and calculate mean squared error\n",
    "y_pred = model.predict(X_test)\n",
    "score = calc_log_clamped_score(y_test, y_pred)\n",
    "print(\"Score:\", score)"
   ],
   "outputs": [
    {
     "name": "stdout",
     "output_type": "stream",
     "text": [
      "Score: 3.5180669229924977\n"
     ]
    }
   ],
   "execution_count": 5
  }
 ],
 "metadata": {
  "kernelspec": {
   "display_name": "Python 3",
   "language": "python",
   "name": "python3"
  },
  "language_info": {
   "codemirror_mode": {
    "name": "ipython",
    "version": 2
   },
   "file_extension": ".py",
   "mimetype": "text/x-python",
   "name": "python",
   "nbconvert_exporter": "python",
   "pygments_lexer": "ipython2",
   "version": "2.7.6"
  }
 },
 "nbformat": 4,
 "nbformat_minor": 5
}
