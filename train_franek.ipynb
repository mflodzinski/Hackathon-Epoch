{
 "cells": [
  {
   "cell_type": "code",
   "id": "initial_id",
   "metadata": {
    "collapsed": true,
    "ExecuteTime": {
     "end_time": "2025-02-22T14:19:10.210833Z",
     "start_time": "2025-02-22T14:18:52.080657Z"
    }
   },
   "source": [
    "import pandas as pd\n",
    "import numpy as np\n",
    "from sklearn.pipeline import Pipeline\n",
    "from sklearn.model_selection import GridSearchCV\n",
    "from xgboost import XGBRegressor\n",
    "from sklearn.preprocessing import FunctionTransformer, TargetEncoder\n",
    "from sklearn.compose import ColumnTransformer\n",
    "from sklearn.model_selection import train_test_split\n",
    "\n",
    "train_data = pd.read_csv('datasets/dataset_train_final.csv')\n",
    "test_data = pd.read_csv('datasets/dataset_test_final.csv')\n",
    "\n",
    "\n",
    "\n",
    "train_data = train_data.dropna(subset=['TOTAL_FIRE_SIZE'])\n",
    "X = train_data.drop(columns=['TOTAL_FIRE_SIZE'])\n",
    "y = train_data['TOTAL_FIRE_SIZE']\n",
    "\n",
    "X_train, X_test, y_train, y_test = train_test_split(X, y, test_size=0.2, random_state=42)\n",
    "\n",
    "preprocessor = ColumnTransformer(\n",
    "    transformers=[\n",
    "            ('target_encoder', TargetEncoder(target_type='continuous'), ['STATE'])\n",
    "        ],\n",
    "        remainder='passthrough'\n",
    "    )\n",
    "\n",
    "\n",
    "# Define a pipeline with a target encoder and XGBoost regressor using squared log error.\n",
    "pipeline = Pipeline([\n",
    "    ('preprocessing', preprocessor),\n",
    "    ('regressor', XGBRegressor(random_state=42, objective='reg:squaredlogerror'))\n",
    "])\n",
    "\n",
    "param_grid = {\n",
    "    'regressor__max_depth': [3, 5, 7],\n",
    "    'regressor__n_estimators': [100, 200],\n",
    "    'regressor__learning_rate': [0.01, 0.1, 0.2]\n",
    "}\n",
    "\n",
    "grid = GridSearchCV(pipeline, param_grid, cv=5, scoring='neg_mean_squared_error')\n",
    "grid.fit(X_train, y_train)\n",
    "\n",
    "print(\"Best parameters:\", grid.best_params_)\n",
    "print(\"Best score (negative MSE):\", grid.best_score_)\n",
    "\n",
    "best_estimator = grid.best_estimator_\n",
    "y_pred = best_estimator.predict(X_test)\n",
    "\n",
    "def calc_log_clamped_score_np(y_true, y_pred):\n",
    "    eps = 1e-15\n",
    "    y_pred = np.maximum(y_pred, eps)\n",
    "    y_true = np.maximum(y_true, eps)\n",
    "    log_errors = np.abs(np.log(y_pred / y_true))\n",
    "    log_errors_clamped = np.minimum(log_errors, 10.0)\n",
    "    return np.mean(log_errors_clamped)\n",
    "\n",
    "score = calc_log_clamped_score_np(y_test, y_pred)\n",
    "print(\"Score:\", score)\n"
   ],
   "outputs": [
    {
     "name": "stdout",
     "output_type": "stream",
     "text": [
      "Best parameters: {'regressor__learning_rate': 0.2, 'regressor__max_depth': 3, 'regressor__n_estimators': 200}\n",
      "Best score (negative MSE): -8090533752.824155\n",
      "Score: 2.33913416400103\n"
     ]
    }
   ],
   "execution_count": 5
  }
 ],
 "metadata": {
  "kernelspec": {
   "display_name": "Python 3",
   "language": "python",
   "name": "python3"
  },
  "language_info": {
   "codemirror_mode": {
    "name": "ipython",
    "version": 2
   },
   "file_extension": ".py",
   "mimetype": "text/x-python",
   "name": "python",
   "nbconvert_exporter": "python",
   "pygments_lexer": "ipython2",
   "version": "2.7.6"
  }
 },
 "nbformat": 4,
 "nbformat_minor": 5
}
