{
 "cells": [
  {
   "cell_type": "code",
   "id": "initial_id",
   "metadata": {
    "collapsed": true,
    "ExecuteTime": {
     "end_time": "2025-02-22T14:54:30.097476Z",
     "start_time": "2025-02-22T14:54:17.519057Z"
    }
   },
   "source": [
    "import pandas as pd\n",
    "import numpy as np\n",
    "from sklearn.pipeline import Pipeline\n",
    "from sklearn.model_selection import GridSearchCV\n",
    "from xgboost import XGBRegressor\n",
    "from sklearn.preprocessing import TargetEncoder\n",
    "from sklearn.compose import ColumnTransformer\n",
    "from sklearn.model_selection import train_test_split\n",
    "\n",
    "train_data = pd.read_csv('datasets/dataset_train_final.csv')\n",
    "train_data = train_data.dropna(subset=['TOTAL_FIRE_SIZE'])\n",
    "\n",
    "X = train_data.drop(columns=['TOTAL_FIRE_SIZE'])\n",
    "y = train_data['TOTAL_FIRE_SIZE']\n",
    "\n",
    "X_train, X_test, y_train, y_test = train_test_split(X, y, test_size=0.2, random_state=42)\n",
    "\n",
    "preprocessor = ColumnTransformer(\n",
    "    transformers=[\n",
    "            ('target_encoder', TargetEncoder(target_type='continuous'), ['STATE'])\n",
    "        ],\n",
    "        remainder='passthrough'\n",
    "    )\n",
    "\n",
    "# Define a pipeline with a target encoder and XGBoost regressor using squared log error.\n",
    "pipeline = Pipeline([\n",
    "    ('preprocessing', preprocessor),\n",
    "    ('regressor', XGBRegressor(random_state=42, objective='reg:squaredlogerror'))\n",
    "])\n",
    "\n",
    "param_grid = {\n",
    "    'regressor__max_depth': [3, 5, 7, 9],\n",
    "    'regressor__n_estimators': [100, 200, 300, 500, 1000],\n",
    "    'regressor__learning_rate': [0.01, 0.1, 0.2]\n",
    "}\n",
    "\n",
    "grid = GridSearchCV(pipeline, param_grid, cv=5, scoring='neg_mean_squared_error', n_jobs=-1)\n",
    "grid.fit(X_train, y_train)\n",
    "\n",
    "print(\"Best parameters:\", grid.best_params_)\n",
    "print(\"Best score (negative MSE):\", grid.best_score_)\n",
    "\n",
    "best_estimator = grid.best_estimator_\n",
    "y_pred = best_estimator.predict(X_test)\n",
    "\n",
    "def calc_log_clamped_score_np(y_true, y_pred):\n",
    "    eps = 1e-15\n",
    "    y_pred = np.maximum(y_pred, eps)\n",
    "    y_true = np.maximum(y_true, eps)\n",
    "    log_errors = np.abs(np.log(y_pred / y_true))\n",
    "    log_errors_clamped = np.minimum(log_errors, 10.0)\n",
    "    return np.mean(log_errors_clamped)\n",
    "\n",
    "score = calc_log_clamped_score_np(y_test, y_pred)\n",
    "print(\"Score:\", score)\n"
   ],
   "outputs": [
    {
     "name": "stdout",
     "output_type": "stream",
     "text": [
      "Best parameters: {'regressor__learning_rate': 0.2, 'regressor__max_depth': 9, 'regressor__n_estimators': 1000}\n",
      "Best score (negative MSE): -8087188358.709325\n",
      "Score: 2.2943942732297504\n"
     ]
    }
   ],
   "execution_count": 28
  },
  {
   "metadata": {
    "ExecuteTime": {
     "end_time": "2025-02-22T14:41:27.544468Z",
     "start_time": "2025-02-22T14:41:27.536912Z"
    }
   },
   "cell_type": "code",
   "source": [
    "test_data = pd.read_csv('datasets/dataset_test_final.csv')\n",
    "test_actual = test_data[test_data['YEAR'] <= 2015]\n",
    "print(len(test_actual))"
   ],
   "id": "d8b0fcc54b015c66",
   "outputs": [
    {
     "name": "stdout",
     "output_type": "stream",
     "text": [
      "2160\n"
     ]
    }
   ],
   "execution_count": 14
  },
  {
   "metadata": {},
   "cell_type": "code",
   "outputs": [],
   "execution_count": null,
   "source": [
    "\n",
    "predictions = best_estimator.predict(test_actual)"
   ],
   "id": "e9c484da52edaab9"
  },
  {
   "metadata": {
    "ExecuteTime": {
     "end_time": "2025-02-22T14:51:13.485245Z",
     "start_time": "2025-02-22T14:51:13.463045Z"
    }
   },
   "cell_type": "code",
   "source": [
    "predictions_copy = pd.DataFrame(predictions.copy())\n",
    "# predictions_copy.head()\n",
    "\n",
    "predictions_copy = predictions_copy.rename(columns={0: 'total_fire_size'})\n",
    "predictions_copy['ID'] = range(len(predictions_copy))\n",
    "predictions_copy['STATE'] = test_actual['STATE']\n",
    "predictions_copy['MONTH'] = test_actual['YEAR'].astype(str) + '-' + train_data['MONTH'].astype(str).str.zfill(2)\n",
    "\n",
    "# Reorder the DataFrame so that 'ID' is the first column\n",
    "cols = ['ID'] + [col for col in predictions_copy.columns if col != 'ID']\n",
    "submission_df = predictions_copy[cols]\n",
    "\n",
    "null_entries = submission_df.isnull()\n",
    "\n",
    "# # Display the DataFrame with True/False indicating null entries\n",
    "# print(\"Null entries in the DataFrame:\")\n",
    "# print(null_entries)\n",
    "#\n",
    "# # If you want to see the rows with any null values\n",
    "# rows_with_nulls = submission_df[submission_df.isnull().any(axis=1)]\n",
    "# print(\"\\nRows with any null values:\")\n",
    "# print(rows_with_nulls)\n",
    "\n",
    "submission_df = submission_df.dropna()\n",
    "submission_df.to_csv('submission_final_1.csv', index=False)\n",
    "print(\"Submission file saved as 'submission.csv'.\")\n",
    "print(len(submission_df))"
   ],
   "id": "96364dc07b5abb8b",
   "outputs": [
    {
     "name": "stdout",
     "output_type": "stream",
     "text": [
      "Submission file saved as 'submission.csv'.\n",
      "997\n"
     ]
    }
   ],
   "execution_count": 27
  }
 ],
 "metadata": {
  "kernelspec": {
   "display_name": "Python 3",
   "language": "python",
   "name": "python3"
  },
  "language_info": {
   "codemirror_mode": {
    "name": "ipython",
    "version": 2
   },
   "file_extension": ".py",
   "mimetype": "text/x-python",
   "name": "python",
   "nbconvert_exporter": "python",
   "pygments_lexer": "ipython2",
   "version": "2.7.6"
  }
 },
 "nbformat": 4,
 "nbformat_minor": 5
}
